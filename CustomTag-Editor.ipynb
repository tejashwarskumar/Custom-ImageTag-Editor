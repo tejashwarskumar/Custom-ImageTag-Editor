{
 "cells": [
  {
   "cell_type": "code",
   "execution_count": null,
   "metadata": {},
   "outputs": [],
   "source": [
    "from tkinter import filedialog\n",
    "\n",
    "file = filedialog.askopenfilename(initialdir = \"C:\\My Files\\PageMajik\", title = \"Select a file\", filetypes = ((\"JPG Files\",\"*.jpg\"),(\"PNG Files\",\"*.png\"),(\"All Files\",\"*.*\")))"
   ]
  },
  {
   "cell_type": "code",
   "execution_count": null,
   "metadata": {},
   "outputs": [],
   "source": [
    "from tkinter import filedialog\n",
    "\n",
    "folder = filedialog.askdirectory(initialdir = \"C:\\My Files\\PageMajik\", title = \"Select a folder\")"
   ]
  },
  {
   "cell_type": "code",
   "execution_count": null,
   "metadata": {
    "scrolled": true
   },
   "outputs": [],
   "source": [
    "import subprocess\n",
    "\n",
    "exe = \"C:\\My Files\\PageMajik\\exiftool.exe\"\n",
    "\n",
    "process_read = subprocess.Popen([exe,file], stdout = subprocess.PIPE, stderr = subprocess.STDOUT, universal_newlines = True)\n",
    "for output in process_read.stdout:\n",
    "    print(output)"
   ]
  },
  {
   "cell_type": "code",
   "execution_count": null,
   "metadata": {},
   "outputs": [],
   "source": [
    "config_command = \"-config\"\n",
    "config = \"config.cfg\"\n",
    "\n",
    "str1 = input(\"Enter tag name: \")\n",
    "str2 = input(\"Enter tag data: \")\n",
    "\n",
    "meta_add = \"-%s=%s\"%(str1,str2)\n",
    "process_add = subprocess.Popen([exe,\"%s\"%config_command,\"%s\"%config,\"%s\"%meta_add,file], stdout = subprocess.PIPE, stderr = subprocess.STDOUT, universal_newlines = True)\n",
    "for output in process_add.stdout:\n",
    "    print(output)"
   ]
  },
  {
   "cell_type": "code",
   "execution_count": null,
   "metadata": {},
   "outputs": [],
   "source": [
    "meta_out = \"-%s\"%str1\n",
    "process_out = subprocess.Popen([exe,\"%s\"%meta_out,file], stdout = subprocess.PIPE, stderr = subprocess.STDOUT, universal_newlines = True)\n",
    "for output in process_out.stdout:\n",
    "    print(output)"
   ]
  },
  {
   "cell_type": "code",
   "execution_count": null,
   "metadata": {},
   "outputs": [],
   "source": []
  }
 ],
 "metadata": {
  "kernelspec": {
   "display_name": "Python 3",
   "language": "python",
   "name": "python3"
  },
  "language_info": {
   "codemirror_mode": {
    "name": "ipython",
    "version": 3
   },
   "file_extension": ".py",
   "mimetype": "text/x-python",
   "name": "python",
   "nbconvert_exporter": "python",
   "pygments_lexer": "ipython3",
   "version": "3.7.6"
  }
 },
 "nbformat": 4,
 "nbformat_minor": 4
}
